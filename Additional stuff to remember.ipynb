{
 "cells": [
  {
   "cell_type": "code",
   "execution_count": 1,
   "id": "8e240e06",
   "metadata": {},
   "outputs": [
    {
     "data": {
      "application/javascript": [
       "\n",
       "            setTimeout(function() {\n",
       "                var nbb_cell_id = 1;\n",
       "                var nbb_unformatted_code = \"# nb_black: A simple extension for Jupyter Notebook and Jupyter Lab to beautify Python code automatically\\n\\n%load_ext nb_black\\n\\n#Just put this code into the first cell in your Notebook, and that's all.\";\n",
       "                var nbb_formatted_code = \"# nb_black: A simple extension for Jupyter Notebook and Jupyter Lab to beautify Python code automatically\\n\\n%load_ext nb_black\\n\\n# Just put this code into the first cell in your Notebook, and that's all.\";\n",
       "                var nbb_cells = Jupyter.notebook.get_cells();\n",
       "                for (var i = 0; i < nbb_cells.length; ++i) {\n",
       "                    if (nbb_cells[i].input_prompt_number == nbb_cell_id) {\n",
       "                        if (nbb_cells[i].get_text() == nbb_unformatted_code) {\n",
       "                             nbb_cells[i].set_text(nbb_formatted_code);\n",
       "                        }\n",
       "                        break;\n",
       "                    }\n",
       "                }\n",
       "            }, 500);\n",
       "            "
      ],
      "text/plain": [
       "<IPython.core.display.Javascript object>"
      ]
     },
     "metadata": {},
     "output_type": "display_data"
    }
   ],
   "source": [
    "# nb_black: A simple extension for Jupyter Notebook and Jupyter Lab to beautify Python code automatically\n",
    "\n",
    "%load_ext nb_black\n",
    "\n",
    "# Just put this code into the first cell in your Notebook, and that's all."
   ]
  },
  {
   "cell_type": "code",
   "execution_count": 2,
   "id": "1a1e6409",
   "metadata": {},
   "outputs": [
    {
     "data": {
      "application/javascript": [
       "\n",
       "            setTimeout(function() {\n",
       "                var nbb_cell_id = 2;\n",
       "                var nbb_unformatted_code = \"import pandas as pd\";\n",
       "                var nbb_formatted_code = \"import pandas as pd\";\n",
       "                var nbb_cells = Jupyter.notebook.get_cells();\n",
       "                for (var i = 0; i < nbb_cells.length; ++i) {\n",
       "                    if (nbb_cells[i].input_prompt_number == nbb_cell_id) {\n",
       "                        if (nbb_cells[i].get_text() == nbb_unformatted_code) {\n",
       "                             nbb_cells[i].set_text(nbb_formatted_code);\n",
       "                        }\n",
       "                        break;\n",
       "                    }\n",
       "                }\n",
       "            }, 500);\n",
       "            "
      ],
      "text/plain": [
       "<IPython.core.display.Javascript object>"
      ]
     },
     "metadata": {},
     "output_type": "display_data"
    }
   ],
   "source": [
    "import pandas as pd"
   ]
  },
  {
   "cell_type": "code",
   "execution_count": null,
   "id": "67c5a188",
   "metadata": {},
   "outputs": [],
   "source": [
    "data = pd.read_csv()\n",
    "\n",
    "# press shift+tab to see documentation of any function [after importing the library]\n",
    "# press tab to auto-complete stuff while writing any function"
   ]
  },
  {
   "cell_type": "markdown",
   "id": "9132f9d1",
   "metadata": {},
   "source": [
    "To write text: create a cell & convert it to 'markdown' from the above dropdown that says 'code'"
   ]
  },
  {
   "cell_type": "code",
   "execution_count": 3,
   "id": "bfbca6d7",
   "metadata": {},
   "outputs": [
    {
     "data": {
      "text/html": [
       "<h1> yo world </h1>\n",
       "<br>\n",
       "<b> yum </b>\n"
      ],
      "text/plain": [
       "<IPython.core.display.HTML object>"
      ]
     },
     "metadata": {},
     "output_type": "display_data"
    },
    {
     "data": {
      "application/javascript": [
       "\n",
       "            setTimeout(function() {\n",
       "                var nbb_cell_id = 3;\n",
       "                var nbb_unformatted_code = \"%%HTML\\n<h1> yo world </h1>\\n<br>\\n<b> yum </b>\";\n",
       "                var nbb_formatted_code = \"%%HTML\\n<h1> yo world </h1>\\n<br>\\n<b> yum </b>\";\n",
       "                var nbb_cells = Jupyter.notebook.get_cells();\n",
       "                for (var i = 0; i < nbb_cells.length; ++i) {\n",
       "                    if (nbb_cells[i].input_prompt_number == nbb_cell_id) {\n",
       "                        if (nbb_cells[i].get_text() == nbb_unformatted_code) {\n",
       "                             nbb_cells[i].set_text(nbb_formatted_code);\n",
       "                        }\n",
       "                        break;\n",
       "                    }\n",
       "                }\n",
       "            }, 500);\n",
       "            "
      ],
      "text/plain": [
       "<IPython.core.display.Javascript object>"
      ]
     },
     "metadata": {},
     "output_type": "display_data"
    }
   ],
   "source": [
    "%%HTML\n",
    "<h1> yo world </h1>\n",
    "<br>\n",
    "<b> yum </b>\n",
    "\n",
    "# just write '%%HTML' at the start of the cell to write html code & execute it."
   ]
  },
  {
   "cell_type": "markdown",
   "id": "6e5be3dd",
   "metadata": {},
   "source": [
    "convert cell to markdown, then, with 'hash(#)' symbol at the start of the cell headings can be written.\n",
    "1 # - h1\n",
    "2 # i.e. ## - h2 & so on."
   ]
  },
  {
   "cell_type": "markdown",
   "id": "4957bc5f",
   "metadata": {},
   "source": [
    "# Hello world"
   ]
  },
  {
   "cell_type": "markdown",
   "id": "ec48f0e6",
   "metadata": {},
   "source": [
    "## Hello world"
   ]
  },
  {
   "cell_type": "markdown",
   "id": "2f09c36e",
   "metadata": {},
   "source": [
    "### Hello world"
   ]
  },
  {
   "cell_type": "code",
   "execution_count": null,
   "id": "f840715d",
   "metadata": {},
   "outputs": [],
   "source": []
  }
 ],
 "metadata": {
  "kernelspec": {
   "display_name": "Python 3 (ipykernel)",
   "language": "python",
   "name": "python3"
  },
  "language_info": {
   "codemirror_mode": {
    "name": "ipython",
    "version": 3
   },
   "file_extension": ".py",
   "mimetype": "text/x-python",
   "name": "python",
   "nbconvert_exporter": "python",
   "pygments_lexer": "ipython3",
   "version": "3.9.6"
  }
 },
 "nbformat": 4,
 "nbformat_minor": 5
}
